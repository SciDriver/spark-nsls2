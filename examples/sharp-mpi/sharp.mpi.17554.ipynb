{
 "cells": [
  {
   "cell_type": "markdown",
   "metadata": {},
   "source": [
    "# SHARP-NSLS2 MPI/GPU Ptychographic Application"
   ]
  },
  {
   "cell_type": "markdown",
   "metadata": {},
   "source": [
    "This demo demonstrates the MPI/GPU ptychographic reconstruction application resolving both the GPU memory and performance requirements of ptychographic experiments for processing large scans ranging from 10K to 60K frames.\n"
   ]
  },
  {
   "cell_type": "code",
   "execution_count": 1,
   "metadata": {
    "collapsed": true
   },
   "outputs": [],
   "source": [
    "from datetime import datetime\n",
    "\n",
    "import os\n",
    "import time\n",
    "import numpy as np\n",
    "import matplotlib.pyplot as plt\n",
    "import h5py\n",
    "\n",
    "from SparkSharpRunner import SparkSharpRunner\n",
    "\n",
    "# make graphics inline\n",
    "%matplotlib inline"
   ]
  },
  {
   "cell_type": "markdown",
   "metadata": {},
   "source": [
    "# Defining the SHARP-NSLS2 Arguments"
   ]
  },
  {
   "cell_type": "code",
   "execution_count": 2,
   "metadata": {
    "collapsed": true
   },
   "outputs": [],
   "source": [
    "sharpRunner = SparkSharpRunner()\n",
    "\n",
    "# print interval, the cxi file\n",
    "args = ['sharp-nsls2', '-o', '10',  '../../data/17554/hxn17554.cxi']"
   ]
  },
  {
   "cell_type": "markdown",
   "metadata": {},
   "source": [
    "# Running the SHARP-NSLS2 Application on One Worker"
   ]
  },
  {
   "cell_type": "code",
   "execution_count": 3,
   "metadata": {
    "collapsed": false
   },
   "outputs": [
    {
     "name": "stdout",
     "output_type": "stream",
     "text": [
      "running sharp-mpi on spark workers...\n",
      "total processing time:  0:00:51.105412\n",
      "sharp time on each worker: \n",
      "0 initialization + reconstruction time:  0:00:45.049695\n"
     ]
    }
   ],
   "source": [
    "partitions = 1\n",
    "\n",
    "print(\"running sharp-mpi on spark workers...\");\n",
    "t1 = datetime.now();\n",
    "tsharp = sharpRunner.run_with_spark(args, partitions)\n",
    "t2 = datetime.now();\n",
    "print (\"total processing time: \", (t2 - t1))\n",
    "\n",
    "print (\"sharp time on each worker: \")\n",
    "for i in range(0, partitions):\n",
    "    print(i, \"initialization + reconstruction time: \", tsharp[i])"
   ]
  },
  {
   "cell_type": "markdown",
   "metadata": {
    "collapsed": true
   },
   "source": [
    "# Running the SHARP-NSLS2 MPI/GPU Application on Four Workers"
   ]
  },
  {
   "cell_type": "code",
   "execution_count": 4,
   "metadata": {
    "collapsed": false
   },
   "outputs": [
    {
     "name": "stdout",
     "output_type": "stream",
     "text": [
      "running sharp-mpi on spark workers...\n",
      "total processing time:  0:00:29.770957\n",
      "sharp time on each worker: \n",
      "0 initialization + reconstruction time:  0:00:25.192501\n",
      "1 initialization + reconstruction time:  0:00:25.660120\n",
      "2 initialization + reconstruction time:  0:00:25.169646\n",
      "3 initialization + reconstruction time:  0:00:24.607747\n"
     ]
    }
   ],
   "source": [
    "partitions = 4\n",
    "\n",
    "print(\"running sharp-mpi on spark workers...\");\n",
    "t1 = datetime.now();\n",
    "tsharp = sharpRunner.run_with_spark(args, partitions)\n",
    "t2 = datetime.now();\n",
    "print (\"total processing time: \", (t2 - t1))\n",
    "\n",
    "print (\"sharp time on each worker: \")\n",
    "for i in range(0, partitions):\n",
    "    print(i, \"initialization + reconstruction time: \", tsharp[i])"
   ]
  },
  {
   "cell_type": "code",
   "execution_count": null,
   "metadata": {
    "collapsed": true
   },
   "outputs": [],
   "source": []
  }
 ],
 "metadata": {
  "anaconda-cloud": {},
  "kernelspec": {
   "display_name": "Python [default]",
   "language": "python",
   "name": "python3"
  },
  "language_info": {
   "codemirror_mode": {
    "name": "ipython",
    "version": 3
   },
   "file_extension": ".py",
   "mimetype": "text/x-python",
   "name": "python",
   "nbconvert_exporter": "python",
   "pygments_lexer": "ipython3",
   "version": "3.5.2"
  }
 },
 "nbformat": 4,
 "nbformat_minor": 1
}
