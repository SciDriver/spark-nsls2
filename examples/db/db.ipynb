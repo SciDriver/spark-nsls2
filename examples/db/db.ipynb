{
 "cells": [
  {
   "cell_type": "code",
   "execution_count": 1,
   "metadata": {
    "collapsed": true
   },
   "outputs": [],
   "source": [
    "from datetime import datetime\n",
    "\n",
    "import numpy as np\n",
    "import matplotlib.pyplot as plt\n",
    "import h5py\n",
    "from scipy import interpolate\n",
    "\n",
    "# from hxntools.handlers import register\n",
    "# register()"
   ]
  },
  {
   "cell_type": "code",
   "execution_count": 2,
   "metadata": {
    "collapsed": true
   },
   "outputs": [],
   "source": [
    "def get_fnames():\n",
    "\n",
    "    from databroker import get_table,db\n",
    "\n",
    "    df  = db.get_table(db[27223],fill=False)\n",
    "    fnames = df['merlin1'].as_matrix()\n",
    "    \n",
    "    return fnames"
   ]
  },
  {
   "cell_type": "code",
   "execution_count": 3,
   "metadata": {
    "collapsed": true
   },
   "outputs": [],
   "source": [
    "def load_files(fnames):\n",
    "\n",
    "    import filestore\n",
    "    import filestore.api\n",
    "    from TimepixHDF5Handler import TimepixHDF5Handler\n",
    "    \n",
    "    filestore.api.register_handler('TPX_HDF5', TimepixHDF5Handler, overwrite=True)\n",
    "\n",
    "    for i in range(0, len(fnames)):\n",
    "        t = 1.*np.fliplr(np.squeeze(np.asarray(filestore.api.get_data(fnames[i]))).T)\n",
    "\n",
    "    return len(fnames)\n"
   ]
  },
  {
   "cell_type": "code",
   "execution_count": 4,
   "metadata": {
    "collapsed": false
   },
   "outputs": [
    {
     "name": "stdout",
     "output_type": "stream",
     "text": [
      "getting fnames from db ...\n",
      "processing time:  0:00:10.350093 , fnames:  67200\n"
     ]
    }
   ],
   "source": [
    "print(\"getting fnames from db ...\");\n",
    "t1 = datetime.now();\n",
    "fnames = get_fnames()\n",
    "t2 = datetime.now();\n",
    "print (\"processing time: \", (t2 - t1), \", fnames: \", len(fnames));"
   ]
  },
  {
   "cell_type": "code",
   "execution_count": 5,
   "metadata": {
    "collapsed": false
   },
   "outputs": [
    {
     "name": "stdout",
     "output_type": "stream",
     "text": [
      "loading files ...\n",
      "processing time:  0:01:30.646848 num_frames:  67200\n"
     ]
    }
   ],
   "source": [
    "print(\"loading files ...\");\n",
    "t1 = datetime.now();\n",
    "num_frames = load_files(fnames)\n",
    "t2 = datetime.now();\n",
    "print (\"processing time: \", (t2 - t1), \"num_frames: \", num_frames);"
   ]
  },
  {
   "cell_type": "code",
   "execution_count": null,
   "metadata": {
    "collapsed": true
   },
   "outputs": [],
   "source": []
  }
 ],
 "metadata": {
  "anaconda-cloud": {},
  "kernelspec": {
   "display_name": "Python [default]",
   "language": "python",
   "name": "python3"
  },
  "language_info": {
   "codemirror_mode": {
    "name": "ipython",
    "version": 3
   },
   "file_extension": ".py",
   "mimetype": "text/x-python",
   "name": "python",
   "nbconvert_exporter": "python",
   "pygments_lexer": "ipython3",
   "version": "3.5.2"
  }
 },
 "nbformat": 4,
 "nbformat_minor": 1
}
