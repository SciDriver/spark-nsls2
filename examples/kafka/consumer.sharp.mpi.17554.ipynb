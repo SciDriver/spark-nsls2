{
 "cells": [
  {
   "cell_type": "code",
   "execution_count": 1,
   "metadata": {
    "collapsed": false
   },
   "outputs": [],
   "source": [
    "import sys\n",
    "import os\n",
    "import time\n",
    "from datetime import timedelta, datetime, tzinfo\n",
    "import numpy as np\n",
    "import matplotlib.pyplot as plt\n",
    "import h5py\n",
    "import pickle\n",
    "\n",
    "from kafka import KafkaConsumer, TopicPartition\n",
    "\n",
    "from pyspark import SparkContext\n",
    "from pyspark.streaming import StreamingContext\n",
    "from pyspark.streaming.kafka import KafkaUtils, OffsetRange\n",
    "\n",
    "from SharpWriter import SharpWriter\n",
    "from SparkSharpRunner import SparkSharpRunner\n",
    "\n",
    "# make graphics inline\n",
    "%matplotlib inline"
   ]
  },
  {
   "cell_type": "markdown",
   "metadata": {},
   "source": [
    "# Creating the Kafka consumer"
   ]
  },
  {
   "cell_type": "code",
   "execution_count": 2,
   "metadata": {
    "collapsed": false
   },
   "outputs": [],
   "source": [
    "topic='topic-a'\n",
    "\n",
    "partition = TopicPartition(topic, 0)\n",
    "\n",
    "consumer = KafkaConsumer(\n",
    "    group_id='my-group',\n",
    "    bootstrap_servers=['localhost:9092'],\n",
    "    auto_offset_reset='latest',\n",
    "    enable_auto_commit=False)\n",
    "\n",
    "consumer.assign([partition])"
   ]
  },
  {
   "cell_type": "markdown",
   "metadata": {},
   "source": [
    "# Getting the scan data from the Kafka topic"
   ]
  },
  {
   "cell_type": "markdown",
   "metadata": {},
   "source": [
    "Select the initial offset"
   ]
  },
  {
   "cell_type": "code",
   "execution_count": 3,
   "metadata": {
    "collapsed": false
   },
   "outputs": [
    {
     "name": "stdout",
     "output_type": "stream",
     "text": [
      "6\n"
     ]
    }
   ],
   "source": [
    "# consumer.seek(partition, 9009)\n",
    "start_offset = consumer.position(partition)\n",
    "print(start_offset)"
   ]
  },
  {
   "cell_type": "markdown",
   "metadata": {},
   "source": [
    "Get the number of messages of the scan data"
   ]
  },
  {
   "cell_type": "code",
   "execution_count": 4,
   "metadata": {
    "collapsed": false
   },
   "outputs": [
    {
     "name": "stdout",
     "output_type": "stream",
     "text": [
      "topic-a:0:6: n:../../files/hxn26.cxi\n"
     ]
    }
   ],
   "source": [
    "msg = next(consumer)\n",
    "cxifile = pickle.loads(msg.value)\n",
    "print(\"%s:%d:%d: n:%s\" % (msg.topic, msg.partition, msg.offset, cxifile) ) "
   ]
  },
  {
   "cell_type": "markdown",
   "metadata": {
    "collapsed": true
   },
   "source": [
    "# Running the SHARP-NSLS2 MPI/GPU application on four workers"
   ]
  },
  {
   "cell_type": "code",
   "execution_count": 5,
   "metadata": {
    "collapsed": false
   },
   "outputs": [
    {
     "name": "stdout",
     "output_type": "stream",
     "text": [
      "running sharp-mpi on spark workers...\n",
      "total processing time:  0:00:23.156416\n",
      "sharp time on each worker: \n",
      "0 initialization + reconstruction time:  0:00:16.860278\n"
     ]
    }
   ],
   "source": [
    "partitions = 1\n",
    "\n",
    "args = ['sharp-nsls2', '-o', '10',  cxifile]\n",
    "sharpRunner = SparkSharpRunner()\n",
    "\n",
    "print(\"running sharp-mpi on spark workers...\");\n",
    "t1 = datetime.now();\n",
    "tsharp = sharpRunner.run_with_spark(args, partitions)\n",
    "t2 = datetime.now();\n",
    "print (\"total processing time: \", (t2 - t1))\n",
    "\n",
    "print (\"sharp time on each worker: \")\n",
    "for i in range(0, partitions):\n",
    "    print(i, \"initialization + reconstruction time: \", tsharp[i])"
   ]
  },
  {
   "cell_type": "code",
   "execution_count": null,
   "metadata": {
    "collapsed": true
   },
   "outputs": [],
   "source": []
  }
 ],
 "metadata": {
  "anaconda-cloud": {},
  "kernelspec": {
   "display_name": "Python [default]",
   "language": "python",
   "name": "python3"
  },
  "language_info": {
   "codemirror_mode": {
    "name": "ipython",
    "version": 3
   },
   "file_extension": ".py",
   "mimetype": "text/x-python",
   "name": "python",
   "nbconvert_exporter": "python",
   "pygments_lexer": "ipython3",
   "version": "3.5.2"
  }
 },
 "nbformat": 4,
 "nbformat_minor": 1
}
