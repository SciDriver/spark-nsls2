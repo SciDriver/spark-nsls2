{
 "cells": [
  {
   "cell_type": "code",
   "execution_count": 1,
   "metadata": {
    "collapsed": false,
    "scrolled": true
   },
   "outputs": [],
   "source": [
    "from datetime import datetime\n",
    "\n",
    "import numpy as np\n",
    "import matplotlib.pyplot as plt\n",
    "import h5py\n",
    "from scipy import interpolate\n",
    "\n",
    "from SharpReader import SharpReader\n",
    "from SharpWriter import SharpWriter"
   ]
  },
  {
   "cell_type": "code",
   "execution_count": 2,
   "metadata": {
    "collapsed": true
   },
   "outputs": [],
   "source": [
    "sid = 17554\n",
    "fields = ['dssx','dssy']"
   ]
  },
  {
   "cell_type": "code",
   "execution_count": 2,
   "metadata": {
    "collapsed": true
   },
   "outputs": [],
   "source": [
    "sharpReader = SharpReader()\n",
    "# x_c, y_c, xn, yn, threshold\n",
    "sharpReader.init(60, 66, 100, 100, 2)"
   ]
  },
  {
   "cell_type": "code",
   "execution_count": 3,
   "metadata": {
    "collapsed": true
   },
   "outputs": [],
   "source": [
    "sharpWriter = SharpWriter()\n",
    "# pixel size (um), distance (m), wavelength (nm), det_side \n",
    "sharpWriter.init(55, 0.5, 0.083, 100) "
   ]
  },
  {
   "cell_type": "code",
   "execution_count": 4,
   "metadata": {
    "collapsed": false
   },
   "outputs": [
    {
     "name": "stdout",
     "output_type": "stream",
     "text": [
      "getting fnames from db ...\n"
     ]
    },
    {
     "ename": "NameError",
     "evalue": "name 'sid' is not defined",
     "output_type": "error",
     "traceback": [
      "\u001b[0;31m---------------------------------------------------------------------------\u001b[0m",
      "\u001b[0;31mNameError\u001b[0m                                 Traceback (most recent call last)",
      "\u001b[0;32m<ipython-input-4-b3ddf3782722>\u001b[0m in \u001b[0;36m<module>\u001b[0;34m()\u001b[0m\n\u001b[1;32m      1\u001b[0m \u001b[0mprint\u001b[0m\u001b[0;34m(\u001b[0m\u001b[0;34m\"getting fnames from db ...\"\u001b[0m\u001b[0;34m)\u001b[0m\u001b[0;34m;\u001b[0m\u001b[0;34m\u001b[0m\u001b[0m\n\u001b[1;32m      2\u001b[0m \u001b[0mt1\u001b[0m \u001b[0;34m=\u001b[0m \u001b[0mdatetime\u001b[0m\u001b[0;34m.\u001b[0m\u001b[0mnow\u001b[0m\u001b[0;34m(\u001b[0m\u001b[0;34m)\u001b[0m\u001b[0;34m;\u001b[0m\u001b[0;34m\u001b[0m\u001b[0m\n\u001b[0;32m----> 3\u001b[0;31m \u001b[0mfnames\u001b[0m\u001b[0;34m,\u001b[0m \u001b[0mic\u001b[0m \u001b[0;34m=\u001b[0m \u001b[0msharpReader\u001b[0m\u001b[0;34m.\u001b[0m\u001b[0mget_merlin1_fnames\u001b[0m\u001b[0;34m(\u001b[0m\u001b[0msid\u001b[0m\u001b[0;34m)\u001b[0m\u001b[0;34m\u001b[0m\u001b[0m\n\u001b[0m\u001b[1;32m      4\u001b[0m \u001b[0mt2\u001b[0m \u001b[0;34m=\u001b[0m \u001b[0mdatetime\u001b[0m\u001b[0;34m.\u001b[0m\u001b[0mnow\u001b[0m\u001b[0;34m(\u001b[0m\u001b[0;34m)\u001b[0m\u001b[0;34m;\u001b[0m\u001b[0;34m\u001b[0m\u001b[0m\n\u001b[1;32m      5\u001b[0m \u001b[0mprint\u001b[0m \u001b[0;34m(\u001b[0m\u001b[0;34m\"processing time: \"\u001b[0m\u001b[0;34m,\u001b[0m \u001b[0;34m(\u001b[0m\u001b[0mt2\u001b[0m \u001b[0;34m-\u001b[0m \u001b[0mt1\u001b[0m\u001b[0;34m)\u001b[0m\u001b[0;34m,\u001b[0m \u001b[0;34m\", fnames: \"\u001b[0m\u001b[0;34m,\u001b[0m \u001b[0mlen\u001b[0m\u001b[0;34m(\u001b[0m\u001b[0mfnames\u001b[0m\u001b[0;34m)\u001b[0m\u001b[0;34m,\u001b[0m \u001b[0;34m\", ic: \"\u001b[0m\u001b[0;34m,\u001b[0m \u001b[0mlen\u001b[0m\u001b[0;34m(\u001b[0m\u001b[0mic\u001b[0m\u001b[0;34m)\u001b[0m\u001b[0;34m)\u001b[0m\u001b[0;34m;\u001b[0m\u001b[0;34m\u001b[0m\u001b[0m\n",
      "\u001b[0;31mNameError\u001b[0m: name 'sid' is not defined"
     ]
    }
   ],
   "source": [
    "print(\"getting fnames from db ...\");\n",
    "t1 = datetime.now();\n",
    "fnames, ic = sharpReader.get_merlin1_fnames(sid)\n",
    "t2 = datetime.now();\n",
    "print (\"processing time: \", (t2 - t1), \", fnames: \", len(fnames), \", ic: \", len(ic));"
   ]
  },
  {
   "cell_type": "code",
   "execution_count": 6,
   "metadata": {
    "collapsed": false
   },
   "outputs": [
    {
     "name": "stdout",
     "output_type": "stream",
     "text": [
      "getting points from db ...\n",
      "processing time:  0:00:12.101289 , x:  67200 , y:  67200\n"
     ]
    }
   ],
   "source": [
    "print(\"getting points from db ...\");\n",
    "t1 = datetime.now();\n",
    "xs, ys = sharpReader.get_points(sid, fields)\n",
    "t2 = datetime.now();\n",
    "print (\"processing time: \", (t2 - t1), \", x: \", len(xs), \", y: \", len(ys));"
   ]
  },
  {
   "cell_type": "code",
   "execution_count": 7,
   "metadata": {
    "collapsed": false
   },
   "outputs": [
    {
     "name": "stdout",
     "output_type": "stream",
     "text": [
      "loading files ...\n",
      "processing time:  0:01:49.131658 frames:  67200\n"
     ]
    }
   ],
   "source": [
    "print(\"loading files ...\");\n",
    "t1 = datetime.now();\n",
    "frames = sharpReader.load_files(sid, fnames, ic)\n",
    "t2 = datetime.now();\n",
    "print (\"processing time: \", (t2 - t1), \"frames: \", len(frames));"
   ]
  },
  {
   "cell_type": "code",
   "execution_count": 8,
   "metadata": {
    "collapsed": false
   },
   "outputs": [
    {
     "name": "stdout",
     "output_type": "stream",
     "text": [
      "set frames ...\n",
      "processing time:  0:00:02.203580 emptyFrames:  0\n"
     ]
    }
   ],
   "source": [
    "print(\"set frames ...\");\n",
    "t1 = datetime.now();\n",
    "emptyFrames = sharpWriter.set_frames(frames)\n",
    "t2 = datetime.now();\n",
    "print (\"processing time: \", (t2 - t1), \"emptyFrames: \", len(emptyFrames));"
   ]
  },
  {
   "cell_type": "code",
   "execution_count": 9,
   "metadata": {
    "collapsed": false
   },
   "outputs": [
    {
     "name": "stdout",
     "output_type": "stream",
     "text": [
      "set points ...\n",
      "processing time:  0:00:00.030433 , X and Y, min/max/size  0.0 1.0 67200 0.0 988.0 67200\n"
     ]
    }
   ],
   "source": [
    "print(\"set points ...\");\n",
    "t1 = datetime.now();\n",
    "X, Y = sharpWriter.set_points(xs, ys, emptyFrames)\n",
    "t2 = datetime.now();\n",
    "print (\"processing time: \", (t2 - t1), \", X and Y, min/max/size \", min(X), max(X), X.size, min(Y), max(Y), Y.size);"
   ]
  },
  {
   "cell_type": "code",
   "execution_count": 11,
   "metadata": {
    "collapsed": false
   },
   "outputs": [
    {
     "name": "stdout",
     "output_type": "stream",
     "text": [
      "set object ...\n",
      "processing time:  0:00:00.032359\n"
     ]
    }
   ],
   "source": [
    "print(\"set object ...\");\n",
    "t1 = datetime.now();\n",
    "init_obj = sharpWriter.set_object(X, Y)\n",
    "t2 = datetime.now();\n",
    "print (\"processing time: \", (t2 - t1));"
   ]
  },
  {
   "cell_type": "code",
   "execution_count": null,
   "metadata": {
    "collapsed": true
   },
   "outputs": [],
   "source": []
  }
 ],
 "metadata": {
  "anaconda-cloud": {},
  "kernelspec": {
   "display_name": "Python [default]",
   "language": "python",
   "name": "python3"
  },
  "language_info": {
   "codemirror_mode": {
    "name": "ipython",
    "version": 3
   },
   "file_extension": ".py",
   "mimetype": "text/x-python",
   "name": "python",
   "nbconvert_exporter": "python",
   "pygments_lexer": "ipython3",
   "version": "3.5.2"
  }
 },
 "nbformat": 4,
 "nbformat_minor": 1
}
